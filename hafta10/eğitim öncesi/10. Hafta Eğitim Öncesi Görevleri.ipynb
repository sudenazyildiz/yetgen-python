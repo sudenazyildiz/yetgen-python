{
 "cells": [
  {
   "attachments": {},
   "cell_type": "markdown",
   "metadata": {},
   "source": [
    "# Problem 1"
   ]
  },
  {
   "cell_type": "code",
   "execution_count": 2,
   "metadata": {},
   "outputs": [
    {
     "name": "stdout",
     "output_type": "stream",
     "text": [
      "Matris: [6 0 8 2 3]\n",
      "Matris'in şekli: (5,)\n",
      "Yeniden boyutlandırılmış matris: [[6 0 8 2 3]]\n",
      "Yeniden boyutlandırılmış matris'in boyut sayısı: 2\n"
     ]
    }
   ],
   "source": [
    "# 1 - numpy kütüphanesini import edin\n",
    "\n",
    "# 2 - 0 ile 10 arasında 5 sayıdan oluşan matris üretin\n",
    "\n",
    "# 3 - matris'in boyutunu öğrenin\n",
    "\n",
    "# 4 - matris'i yeniden boyutlandırın\n",
    "\n",
    "# 5 - matris'in boyut sayısını öğrenin\n",
    "\n",
    "\n",
    "\n",
    "\n",
    "import numpy as np\n",
    "matris = np.random.randint(0, 10, 5)\n",
    "print(\"Matris:\", matris)\n",
    "print(\"Matris'in şekli:\", matris.shape)\n",
    "matrissekil = matris.reshape(1, 5)\n",
    "print(\"Yeniden boyutlandırılmış matris:\", matrissekil)\n",
    "print(\"Yeniden boyutlandırılmış matris'in boyut sayısı:\", matrissekil.ndim)\n",
    "\n"
   ]
  },
  {
   "attachments": {},
   "cell_type": "markdown",
   "metadata": {},
   "source": [
    "# Problem 2"
   ]
  },
  {
   "cell_type": "code",
   "execution_count": 4,
   "metadata": {},
   "outputs": [
    {
     "name": "stdout",
     "output_type": "stream",
     "text": [
      "Tek sayılardan oluşan matris: [1 3 5 7 9]\n",
      "Birinci parça: [1 3 5]\n",
      "İkinci parça: [7 9]\n",
      "Birleşmiş matris: [1 3 5 7 9]\n"
     ]
    }
   ],
   "source": [
    "# 1 - 0 ile 10 arasında bulunan tek sayılardan oluşan matris üretin\n",
    "\n",
    "# 2 - Oluşturduğunuz matrisi parçalayın\n",
    "\n",
    "# 3 - Parçalanmış matrisleri birleştirin\n",
    "\n",
    "\n",
    "tek_sayilar = np.arange(1, 10, 2)\n",
    "print(\"Tek sayılardan oluşan matris:\", tek_sayilar)\n",
    "parcalar = np.array_split(tek_sayilar, 2)\n",
    "parca1, parca2 = parcalar[0], parcalar[1]\n",
    "print(\"Birinci parça:\", parca1)\n",
    "print(\"İkinci parça:\", parca2)\n",
    "birlesmis_matris = np.concatenate([parca1, parca2])\n",
    "print(\"Birleşmiş matris:\", birlesmis_matris)\n",
    "\n",
    "\n",
    "\n"
   ]
  },
  {
   "attachments": {},
   "cell_type": "markdown",
   "metadata": {},
   "source": [
    "# Problem 3"
   ]
  },
  {
   "cell_type": "code",
   "execution_count": 5,
   "metadata": {},
   "outputs": [
    {
     "name": "stdout",
     "output_type": "stream",
     "text": [
      "Rastgele sayılardan oluşan matris: [53 57 99 65 97 77 33 45 91 29]\n",
      "Matris'in şekli: (10,)\n",
      "Matris'in boyut sayısı: 1\n",
      "Matris'in veri tipi: int64\n",
      "Matris'in boyutu (eleman sayısı): 10\n"
     ]
    }
   ],
   "source": [
    "# 1 - 5 ile 100 arasında ikişer ikişer atlayarak rastgele 10 sayıdan oluşan matris üretin\n",
    "\n",
    "# 2 - matris'in özelliklerini inceleyin\n",
    "\n",
    "rastgele_sayilar = np.random.choice(np.arange(5, 100, 2), 10, replace=False)\n",
    "print(\"Rastgele sayılardan oluşan matris:\", rastgele_sayilar)\n",
    "\n",
    "print(\"Matris'in şekli:\", rastgele_sayilar.shape)\n",
    "print(\"Matris'in boyut sayısı:\", rastgele_sayilar.ndim)\n",
    "print(\"Matris'in veri tipi:\", rastgele_sayilar.dtype)\n",
    "print(\"Matris'in boyutu (eleman sayısı):\", rastgele_sayilar.size)\n",
    "\n",
    "\n"
   ]
  }
 ],
 "metadata": {
  "kernelspec": {
   "display_name": "Python 3",
   "language": "python",
   "name": "python3"
  },
  "language_info": {
   "codemirror_mode": {
    "name": "ipython",
    "version": 3
   },
   "file_extension": ".py",
   "mimetype": "text/x-python",
   "name": "python",
   "nbconvert_exporter": "python",
   "pygments_lexer": "ipython3",
   "version": "3.11.0"
  },
  "orig_nbformat": 4,
  "vscode": {
   "interpreter": {
    "hash": "5026d2d6e7aaaaba093def813beadff083d8733e4a511af01735cbabd156995d"
   }
  }
 },
 "nbformat": 4,
 "nbformat_minor": 2
}
