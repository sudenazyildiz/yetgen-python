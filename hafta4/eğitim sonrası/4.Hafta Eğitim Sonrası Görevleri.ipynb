{
 "cells": [
  {
   "cell_type": "markdown",
   "metadata": {},
   "source": [
    "# Problem 1\n",
    "`ogrenciler` adında bir sözlük oluşturunuz. Kullanıcıdan döngü yardımıyla 3 öğrenci için veri girmesini isteyerek öğrencilerin sırasıyla okul numarası, isim, soy isim, telefon numarası ve doğum tarihi bilgilerini alınız. Aldığınız öğrenci bilgilerini yine aynı döngü yardımıyla `ogrenciler` adındaki sözlükte saklayınız. Daha sonra öğrenci bilgilerinin bulunduğu sözlük yapısını ekrana bastırınız.\n",
    "\n"
   ]
  },
  {
   "cell_type": "code",
   "execution_count": 8,
   "metadata": {},
   "outputs": [
    {
     "name": "stdout",
     "output_type": "stream",
     "text": [
      "1. Öğrenci bilgilerini giriniz: \n",
      "2. Öğrenci bilgilerini giriniz: \n",
      "3. Öğrenci bilgilerini giriniz: \n",
      "\n",
      "Öğrenci Bilgileri:\n",
      "Okul Numarası: 158, İsim: sudenaz, Soy İsim: yıldız, Telefon Numarası: 5526532004, Doğum Tarihi: 11052004\n"
     ]
    }
   ],
   "source": [
    "# 1.Problemin Çözümünü Buraya Yazınız\n",
    "\n",
    "ogrenciler = {}\n",
    "for i in range(3) :\n",
    "    print(f\"{i+1}. Öğrenci bilgilerini giriniz: \")\n",
    "\n",
    "a = input(\"Okul Numarası : \")\n",
    "b = input(\"İsim : \")\n",
    "c = input(\"Soy İsim : \")\n",
    "d = input(\"Tel No : \")\n",
    "e = input(\"Doğum Tarihi : \")\n",
    "\n",
    "ogrenciler[a] = {\"isim\" : b , \"soy isim\" : c, \"tel no\" : d , \"doğum tarihi\" : e}\n",
    "\n",
    "print(\"\\nÖğrenci Bilgileri:\")\n",
    "for okul_numarasi, bilgiler in ogrenciler.items():\n",
    "    print(f\"Okul Numarası: {okul_numarasi}, İsim: {bilgiler['isim']}, Soy İsim: {bilgiler['soy isim']}, Telefon Numarası: {bilgiler['tel no']}, Doğum Tarihi: {bilgiler['doğum tarihi']}\")"
   ]
  },
  {
   "cell_type": "markdown",
   "metadata": {},
   "source": [
    "# Problem 2\n",
    "\n",
    "### a - Biraz ısınarak başlayalım!\n",
    "\n",
    "```\n",
    "numbers = [5,10,10,15,15,15,20,20,20,20]\n",
    "```\n",
    "\n",
    "Yukarıda `numbers` adında 10 elemanlı bir liste verilmiştir. Bu listenin her elemanını kontrol eden ve tekrar eden elemanları bir kez olacak şekilde başka bir listeye kopyalayan bir program yazınız. Son olarak oluşturduğunuz listeyi ekrana bastırınız.\n",
    "\n",
    "\n",
    "\n",
    "\n",
    "```\n",
    ">Output\n",
    "[5, 10, 15, 20]\n",
    "```\n"
   ]
  },
  {
   "cell_type": "code",
   "execution_count": 10,
   "metadata": {},
   "outputs": [
    {
     "name": "stdout",
     "output_type": "stream",
     "text": [
      "[5, 10, 15, 20]\n"
     ]
    }
   ],
   "source": [
    "# 2.Problemin a Şıkkının Çözümünü Buraya Yazınız\n",
    "\n",
    "numbers = [5,10,10,15,15,15,20,20,20,20]\n",
    "\n",
    "a = list(set(numbers))\n",
    "b=[]\n",
    "for number in numbers :\n",
    "    if number not in b :\n",
    "        b.append(number)\n",
    "\n",
    "print(b)"
   ]
  },
  {
   "cell_type": "markdown",
   "metadata": {},
   "source": [
    "### 🌶️ b) Hadi işi biraz daha zorlaştıralım! \n",
    "\n",
    "\n",
    "Şimdiyse senden `numbers` isimli listedeki tekrar eden elemanları `repeatNumbers` adındaki listeye; tekrar etmeyen elemanları `uniqueNumbers`adındaki listeye kopyalayan yazmanı ve listeleri ekrana bastırmanı bekliyoruz\n",
    "\n",
    "```\n",
    ">Output\n",
    "Tekrar Eden Elemanlar: [10, 10, 15, 15, 15, 20, 20, 20, 20]\n",
    "Tekrar Etmeyen Elemanlar: [5]\n",
    "```"
   ]
  },
  {
   "cell_type": "code",
   "execution_count": 15,
   "metadata": {},
   "outputs": [
    {
     "name": "stdout",
     "output_type": "stream",
     "text": [
      "tekrar eden elemanlar:  [10, 10, 15, 15, 15, 20, 20, 20, 20]\n",
      "tekrar etmeyen elemanlar:  [5]\n"
     ]
    }
   ],
   "source": [
    "# 2.Problemin b Şıkkının Çözümünü Buraya Yazınız\n",
    "\n",
    "numbers = [5, 10, 10, 15, 15, 15, 20, 20, 20, 20]\n",
    "\n",
    "repeatNumbers = []\n",
    "uniqueNumbers = []\n",
    "tekrarsayıları = {}\n",
    "\n",
    "for number in numbers:\n",
    "    if number in tekrarsayıları :\n",
    "        tekrarsayıları[number] += 1\n",
    "    else:\n",
    "        tekrarsayıları[number] = 1\n",
    "\n",
    "for number in numbers:\n",
    "    if tekrarsayıları[number] > 1:\n",
    "        repeatNumbers.append(number)\n",
    "    elif tekrarsayıları[number] == 1:\n",
    "        uniqueNumbers.append(number)\n",
    "         \n",
    "print(\"tekrar eden elemanlar: \", repeatNumbers)\n",
    "print(\"tekrar etmeyen elemanlar: \", uniqueNumbers)\n",
    "\n"
   ]
  },
  {
   "cell_type": "markdown",
   "metadata": {},
   "source": [
    "# Problem 3\n",
    "sn1 = {1,2,3,4,5}\n",
    "\n",
    "sn2 = {4,5,6,7,8}\n",
    "\n",
    " Verilen 2 adet küme için kesişimlerini, farklarını ve birleşimlerini bulunuz. "
   ]
  },
  {
   "cell_type": "code",
   "execution_count": 16,
   "metadata": {},
   "outputs": [
    {
     "name": "stdout",
     "output_type": "stream",
     "text": [
      "{4, 5}\n",
      "{1, 2, 3}\n",
      "{8, 6, 7}\n",
      "{1, 2, 3, 4, 5, 6, 7, 8}\n"
     ]
    }
   ],
   "source": [
    "# 3.Problemin Çözümünü Buraya Yazınız\n",
    "\n",
    "sn1 = {1,2,3,4,5}\n",
    "sn2 = {4,5,6,7,8}\n",
    "\n",
    "kesisim = sn1.intersection(sn2)\n",
    "print(kesisim)\n",
    "\n",
    "sn1sn2farkı = sn1.difference(sn2)\n",
    "print(sn1sn2farkı) \n",
    "sn2sn1farkı = sn2.difference(sn1)\n",
    "print(sn2sn1farkı)\n",
    "\n",
    "birlesim = sn1.union(sn2)\n",
    "print(birlesim)\n"
   ]
  },
  {
   "cell_type": "markdown",
   "metadata": {},
   "source": [
    "# Problem 4\n",
    "\n",
    "Buradaki işlemlerimizin tamamı stringler içindir. Aşağıda verilecek olan metodlar için kendinizin örnek yaratması gerekmektedir. \n",
    "\n",
    "Örneğin `upper` için `string` değişkeni oluştururken` k = \"BAC\"` şeklinde oluşturmayınız. Bunun yerine k değişkenini `k = \"bac`\" şeklinde oluşturmanız `upper` metodundaki değişimi görebilmeniz için daha iyi olacaktır.\n",
    "\n",
    "Bütün metodlardaki değişimin gözle görülür şekilde değişimi beklenmektedir.\n",
    "\n",
    "\n",
    "1- capitalize(), lower(), upper(), swapcase(), title(), replace()\n",
    "\n",
    "2- endswith(), startswith(), find(), index(), count()\n",
    "\n",
    "3- split(), strip(), join(), islower(), isalpha(), isdigit()\n",
    "\n",
    "\n",
    "Yukarıdaki `string` metodlarındaki değişimleri görebildiğimiz bir program yazınız.\n"
   ]
  },
  {
   "cell_type": "code",
   "execution_count": 50,
   "metadata": {},
   "outputs": [
    {
     "name": "stdout",
     "output_type": "stream",
     "text": [
      "Sudenaz yıldız222  \n",
      "sudenaz yıldız222  \n",
      "SUDENAZ YILDIZ222  \n",
      "SuDeNAZ yILdIz222  \n",
      "Sudenaz Yıldız222  \n",
      "sUdEnaz YılDıZ222  \n",
      "False\n",
      "True\n",
      "1\n",
      "0\n",
      "2\n",
      "['sUdEnaz YılDıZ222  ']\n",
      "sUdEnaz YılDıZ222\n",
      "sUdEnaz,YılDıZ\n",
      "False\n",
      "False\n",
      "False\n"
     ]
    }
   ],
   "source": [
    "# 4.Problemin Çözümünü Buraya Yazınız\n",
    "\n",
    "a = \"sUdEnaz YılDıZ222  \"    \n",
    "\n",
    "\n",
    "print(a.capitalize())\n",
    "print(a.lower())\n",
    "print(a.upper())\n",
    "print(a.swapcase())\n",
    "print(a.title())\n",
    "print(a.replace(\"yıldız\",\"yasar\"))\n",
    "print(a.endswith(\"ıZ\"))\n",
    "print(a.startswith(\"sU\"))\n",
    "print(a.find(\"U\"))\n",
    "print(a.index(\"sUdEnaz\"))\n",
    "print(a.count(\"ı\"))\n",
    "print(a.split(\",\"))\n",
    "print(a.strip())\n",
    "kelime = \"sUdEnaz\" , \"YılDıZ\"\n",
    "print(\",\".join(kelime))\n",
    "print(a.islower())\n",
    "print(a.isalpha())\n",
    "print(a.isdigit())\n",
    "\n",
    "\n"
   ]
  }
 ],
 "metadata": {
  "kernelspec": {
   "display_name": "Python 3.10.5 64-bit",
   "language": "python",
   "name": "python3"
  },
  "language_info": {
   "codemirror_mode": {
    "name": "ipython",
    "version": 3
   },
   "file_extension": ".py",
   "mimetype": "text/x-python",
   "name": "python",
   "nbconvert_exporter": "python",
   "pygments_lexer": "ipython3",
   "version": "3.11.0"
  },
  "orig_nbformat": 4,
  "vscode": {
   "interpreter": {
    "hash": "5026d2d6e7aaaaba093def813beadff083d8733e4a511af01735cbabd156995d"
   }
  }
 },
 "nbformat": 4,
 "nbformat_minor": 2
}
